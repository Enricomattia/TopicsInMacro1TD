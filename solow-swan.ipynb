{
 "cells": [
  {
   "cell_type": "markdown",
   "id": "35f172f2-d7ca-4654-b0c6-ba47bebe7181",
   "metadata": {
    "tags": []
   },
   "source": [
    "# Solow-Swan Model"
   ]
  },
  {
   "cell_type": "markdown",
   "id": "d835768b-d2f2-46c5-886c-c1ae607d88b3",
   "metadata": {},
   "source": [
    "In this notebook I briefly recall some facts about the Solow - Swan model and show you how you can study it with python. You can change the content of this notebook as you like to play with it, the original file I uploaded will remain the same. If you want you can also download your own modified file in your pc to work on it the next time. If you have any question about this content do not hesitate to ask me!"
   ]
  },
  {
   "cell_type": "markdown",
   "id": "204679d8-c24f-43f7-9723-dab778445373",
   "metadata": {},
   "source": [
    "## Preliminaries"
   ]
  },
  {
   "cell_type": "markdown",
   "id": "a5675725-3bdc-429d-8fb2-d333b7c81ca6",
   "metadata": {},
   "source": [
    "This cell is just to recall the python libraries and the notation we need."
   ]
  },
  {
   "cell_type": "code",
   "execution_count": 2,
   "id": "7b72d87d-52b1-4c75-b677-9b8da3a7926b",
   "metadata": {},
   "outputs": [],
   "source": [
    "%%capture\n",
    "%matplotlib widget\n",
    "from sympy import *\n",
    "\n",
    "init_session()\n",
    "K,L,k,alpha,delta,n,s,x = symbols('K,L,k,alpha,delta,n,s,x')"
   ]
  },
  {
   "cell_type": "markdown",
   "id": "70c4bce1-511f-41d7-af83-daf110413c80",
   "metadata": {},
   "source": [
    "### Primitives of the model"
   ]
  },
  {
   "cell_type": "markdown",
   "id": "86bf5f25-dcac-4b38-b17b-e851f1cf3fbf",
   "metadata": {},
   "source": [
    "We are ready to start with the model. First, we need to give the program the primitives of our model. In our case, these are the production function $f(K,L)$, the expression for savings, which is $sf(K,L)$ and the depreciation dynamics $(\\delta + n)K$. Recall that we usually work with per - labour unit, hence I directly divide everyting by $L$ to obtain $f(k)$ and all the related expression. In the following cell the production function is $\\sqrt(x)$, but feel free to change it as you like!"
   ]
  },
  {
   "cell_type": "code",
   "execution_count": 3,
   "id": "f53b68af-7e12-4abf-8ba8-9e53634740d4",
   "metadata": {},
   "outputs": [],
   "source": [
    "prod = sqrt(k)\n",
    "sav = s*prod\n",
    "disc = (delta + n)*k"
   ]
  },
  {
   "cell_type": "markdown",
   "id": "c2777ad7-5cc4-49b0-a17a-8bf06f268555",
   "metadata": {},
   "source": [
    "## General Solution"
   ]
  },
  {
   "cell_type": "markdown",
   "id": "421ce860-1372-4cf4-9d3e-2191f7a8292f",
   "metadata": {},
   "source": [
    "Now that we have the primitives, we have to tell the computer which are the step to performs to find $k^*$ and the other solutions we are interested in. Hence, recall that $k^*$ is such that $sf(k) = (\\delta + n)k$, which is exactly the content of the following cell! In particular, since we have not specified numeric values for $s,n,\\delta$, the computer will give you the expression that characterises $k^*$."
   ]
  },
  {
   "cell_type": "code",
   "execution_count": 4,
   "id": "e8729cf2-e9fc-44b4-97db-69df9cf6fb05",
   "metadata": {},
   "outputs": [
    {
     "data": {
      "image/png": "[encoded data removed]",
      "text/latex": [
       "$\\displaystyle \\frac{s^{2}}{\\left(\\delta + n\\right)^{2}}$"
      ],
      "text/plain": [
       "    2   \n",
       "   s    \n",
       "────────\n",
       "       2\n",
       "(δ + n) "
      ]
     },
     "execution_count": 4,
     "metadata": {},
     "output_type": "execute_result"
    }
   ],
   "source": [
    "sol = solve([sav - disc],k)\n",
    "bro = sol[0]\n",
    "kstar = bro[0]\n",
    "kstar"
   ]
  },
  {
   "cell_type": "markdown",
   "id": "c130cfe5-5320-4a79-aa53-4122380d6e23",
   "metadata": {},
   "source": [
    "## Plot and numeric solutions"
   ]
  },
  {
   "cell_type": "markdown",
   "id": "e1a9008a-762c-41e5-916a-388c4da6b72e",
   "metadata": {},
   "source": [
    "Now that we have a general solution of our model, we can ask what this solution is when we have particular values for the exogenous parameters. In the following cell I give some values for $s,n,\\delta$, tell the computer to plug them into our original function and plot the entire system. Fell free to change the value to see what happens to the plot."
   ]
  },
  {
   "cell_type": "code",
   "execution_count": 5,
   "id": "27e8d52d-c134-4661-b06a-45fcf9514539",
   "metadata": {},
   "outputs": [
    {
     "data": {
      "application/vnd.jupyter.widget-view+json": {
       "model_id": "e9c0c047b60c46e39f6bde4449e3403a",
       "version_major": 2,
       "version_minor": 0
      },
      "text/plain": [
       "Canvas(toolbar=Toolbar(toolitems=[('Home', 'Reset original view', 'home', 'home'), ('Back', 'Back to previous …"
      ]
     },
     "metadata": {},
     "output_type": "display_data"
    }
   ],
   "source": [
    "ndelta = 0.2\n",
    "ns = 0.3\n",
    "nn = 0.5\n",
    "\n",
    "ndisc = disc.subs([(delta, ndelta), (n, nn)])\n",
    "nsav = sav.subs(s,ns)\n",
    "\n",
    "nkstar = kstar.subs([(delta, ndelta), (n, nn), (s,ns)])\n",
    "\n",
    "p1 = plot(prod,(k,0,1),show=False, line_color='blue',xlabel=k,ylabel='functions')\n",
    "p2 = plot(ndisc,(k,0,1),show=False, line_color='red')\n",
    "p3 = plot(nsav,(k,0,1),show=False, line_color='green')\n",
    "\n",
    "p1.extend(p2)\n",
    "p1.extend(p3)\n",
    "\n",
    "p1.show()"
   ]
  },
  {
   "cell_type": "markdown",
   "id": "0b225b8f-351d-4560-a38f-d60b635de152",
   "metadata": {},
   "source": [
    "Do you see $sf(k)$ and $(\\delta + n)k$ intersect? That means that you have a $k^*$!"
   ]
  },
  {
   "cell_type": "markdown",
   "id": "071cb271-c098-47a6-80f7-a3417c2a859b",
   "metadata": {},
   "source": [
    "The last thing that we miss are the other variables connected to $k^*$, in particular $y^*,i^*,c^*$. The following cell compute the value of this variables for the specific parameters inserted above."
   ]
  },
  {
   "cell_type": "code",
   "execution_count": 7,
   "id": "bdf9e3d0-da62-42e6-a500-9cc90251f8c7",
   "metadata": {},
   "outputs": [
    {
     "name": "stdout",
     "output_type": "stream",
     "text": [
      "0.183673469387755 0.428571428571429 0.128571428571429 0.300000000000000\n"
     ]
    }
   ],
   "source": [
    "ystar = prod.subs(k,nkstar)\n",
    "istar = ns*ystar\n",
    "cstar = ystar - istar\n",
    "print(nkstar,ystar,istar,cstar)"
   ]
  }
 ],
 "metadata": {
  "kernelspec": {
   "display_name": "Python 3",
   "language": "python",
   "name": "python3"
  },
  "language_info": {
   "codemirror_mode": {
    "name": "ipython",
    "version": 3
   },
   "file_extension": ".py",
   "mimetype": "text/x-python",
   "name": "python",
   "nbconvert_exporter": "python",
   "pygments_lexer": "ipython3",
   "version": "3.9.5"
  },
  "toc-autonumbering": true,
  "toc-showmarkdowntxt": false
 },
 "nbformat": 4,
 "nbformat_minor": 5
}
