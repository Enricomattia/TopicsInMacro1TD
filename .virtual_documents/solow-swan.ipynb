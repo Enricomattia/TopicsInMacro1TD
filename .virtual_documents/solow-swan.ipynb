get_ipython().run_cell_magic("capture", "", """from sympy import *
init_session()
K,L,k,alpha,delta,n,s = symbols('K,L,k,alpha,delta,n,s')""")


ndelta = 0.2
ns = 0.3
nn = 0.5

prod = sqrt(k)
sav = s*prod
disc = (delta + n)*k


sol = solve([sav - disc],k)
bro = sol[0]
kstar = bro[0]
kstar


ndisc = disc.subs([(delta, ndelta), (n, nn)])
nsav = sav.subs(s,ns)

nkstar = kstar.subs([(delta, ndelta), (n, nn), (s,ns)])

p1 = plot(prod,(k,0,1),show=False, line_color='blue',xlabel=k,ylabel='functions')
p2 = plot(ndisc,(k,0,1),show=False, line_color='red')
p3 = plot(nsav,(k,0,1),show=False, line_color='green')

p1.extend(p2)
p1.extend(p3)

p1.show()


ystar = prod.subs(k,nkstar)
istar = ns*ystar
cstar = ystar - istar
print(nkstar,ystar,istar,cstar)
