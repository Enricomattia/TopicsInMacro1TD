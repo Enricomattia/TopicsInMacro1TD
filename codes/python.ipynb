{
 "cells": [
  {
   "cell_type": "markdown",
   "id": "35f172f2-d7ca-4654-b0c6-ba47bebe7181",
   "metadata": {},
   "source": [
    "# Solve Solow-Swan Model"
   ]
  },
  {
   "cell_type": "markdown",
   "id": "204679d8-c24f-43f7-9723-dab778445373",
   "metadata": {},
   "source": [
    "## Preliminaries"
   ]
  },
  {
   "cell_type": "code",
   "execution_count": 1,
   "id": "7b72d87d-52b1-4c75-b677-9b8da3a7926b",
   "metadata": {},
   "outputs": [],
   "source": [
    "%%capture\n",
    "from sympy import *\n",
    "init_session()\n",
    "K,L,k,alpha,delta,n,s = symbols('K,L,k,alpha,delta,n,s')"
   ]
  },
  {
   "cell_type": "markdown",
   "id": "70c4bce1-511f-41d7-af83-daf110413c80",
   "metadata": {},
   "source": [
    "### Primitives of the model"
   ]
  },
  {
   "cell_type": "code",
   "execution_count": 2,
   "id": "f53b68af-7e12-4abf-8ba8-9e53634740d4",
   "metadata": {},
   "outputs": [],
   "source": [
    "ndelta = 0.2\n",
    "ns = 0.3\n",
    "nn = 0.5\n",
    "\n",
    "prod = sqrt(k)\n",
    "sav = s*prod\n",
    "disc = (delta + n)*k"
   ]
  },
  {
   "cell_type": "markdown",
   "id": "c2777ad7-5cc4-49b0-a17a-8bf06f268555",
   "metadata": {},
   "source": [
    "## General Solution"
   ]
  },
  {
   "cell_type": "code",
   "execution_count": 3,
   "id": "e8729cf2-e9fc-44b4-97db-69df9cf6fb05",
   "metadata": {},
   "outputs": [
    {
     "data": {
      "image/png": "[encoded data removed]",
      "text/latex": [
       "$\\displaystyle \\frac{s^{2}}{\\left(\\delta + n\\right)^{2}}$"
      ],
      "text/plain": [
       "    2   \n",
       "   s    \n",
       "────────\n",
       "       2\n",
       "(δ + n) "
      ]
     },
     "execution_count": 3,
     "metadata": {},
     "output_type": "execute_result"
    }
   ],
   "source": [
    "sol = solve([sav - disc],k)\n",
    "bro = sol[0]\n",
    "kstar = bro[0]\n",
    "kstar"
   ]
  },
  {
   "cell_type": "markdown",
   "id": "c130cfe5-5320-4a79-aa53-4122380d6e23",
   "metadata": {},
   "source": [
    "## Plot and numeric solutions"
   ]
  },
  {
   "cell_type": "code",
   "execution_count": 4,
   "id": "27e8d52d-c134-4661-b06a-45fcf9514539",
   "metadata": {},
   "outputs": [],
   "source": [
    "ndisc = disc.subs([(delta, ndelta), (n, nn)])\n",
    "nsav = sav.subs(s,ns)\n",
    "\n",
    "nkstar = kstar.subs([(delta, ndelta), (n, nn), (s,ns)])\n",
    "\n",
    "p1 = plot(prod,(k,0,1),show=False, line_color='blue',xlabel=k,ylabel='functions')\n",
    "p2 = plot(ndisc,(k,0,1),show=False, line_color='red')\n",
    "p3 = plot(nsav,(k,0,1),show=False, line_color='green')\n",
    "\n",
    "p1.extend(p2)\n",
    "p1.extend(p3)\n",
    "\n",
    "p1.show()"
   ]
  },
  {
   "cell_type": "code",
   "execution_count": 5,
   "id": "bdf9e3d0-da62-42e6-a500-9cc90251f8c7",
   "metadata": {},
   "outputs": [
    {
     "name": "stdout",
     "output_type": "stream",
     "text": [
      "0.183673469387755 0.428571428571429 0.128571428571429 0.300000000000000\n"
     ]
    }
   ],
   "source": [
    "ystar = prod.subs(k,nkstar)\n",
    "istar = ns*ystar\n",
    "cstar = ystar - istar\n",
    "print(nkstar,ystar,istar,cstar)"
   ]
  }
 ],
 "metadata": {
  "kernelspec": {
   "display_name": "Python 3",
   "language": "python",
   "name": "python3"
  },
  "language_info": {
   "codemirror_mode": {
    "name": "ipython",
    "version": 3
   },
   "file_extension": ".py",
   "mimetype": "text/x-python",
   "name": "python",
   "nbconvert_exporter": "python",
   "pygments_lexer": "ipython3",
   "version": "3.9.5"
  },
  "toc-autonumbering": true,
  "toc-showmarkdowntxt": false
 },
 "nbformat": 4,
 "nbformat_minor": 5
}
