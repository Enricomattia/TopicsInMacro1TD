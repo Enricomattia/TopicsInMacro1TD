{
 "cells": [
  {
   "cell_type": "markdown",
   "id": "eb9da7f7-f6be-4b88-a7f9-0b79a067e0ae",
   "metadata": {},
   "source": [
    "# Solve the Solow Swan Model"
   ]
  },
  {
   "cell_type": "code",
   "execution_count": 1,
   "id": "0ed30347-774f-4456-a976-56cb5a8a0399",
   "metadata": {},
   "outputs": [],
   "source": [
    "%display latex\n",
    "\n",
    "K,L,k,alpha,delta,n,s = var('K,L,k,alpha,delta,n,s')\n",
    "\n",
    "prod = sqrt(k)\n",
    "sav = s*prod\n",
    "disc = (delta + n)*k"
   ]
  },
  {
   "cell_type": "code",
   "execution_count": 2,
   "id": "b3a92064-d2cb-4d36-82f3-c27bb07e7f32",
   "metadata": {},
   "outputs": [
    {
     "data": {
      "text/html": [
       "<html><script type=\"math/tex; mode=display\">\\newcommand{\\Bold}[1]{\\mathbf{#1}}\\left[k = \\frac{\\sqrt{k} s}{\\delta + n}\\right]</script></html>"
      ],
      "text/plain": [
       "[k == sqrt(k)*s/(delta + n)]"
      ]
     },
     "execution_count": 2,
     "metadata": {},
     "output_type": "execute_result"
    }
   ],
   "source": [
    "kstar = solve([sav == disc],k)\n",
    "kstar"
   ]
  },
  {
   "cell_type": "code",
   "execution_count": 3,
   "id": "9d5d093c-dc30-445e-bfbe-ca0e8ab5f1d7",
   "metadata": {},
   "outputs": [],
   "source": [
    "ndelta = 0.2\n",
    "ns = 0.3\n",
    "nn = 0.5\n",
    "\n",
    "ndisc = disc.subs(delta==ndelta,n=nn)\n",
    "nsav = sav.subs(s==ns)\n",
    "\n",
    "solve([ndisc==nsav],k)\n",
    "\n",
    "p1 = plot(prod,(k,0,1))\n",
    "p2 = plot(ndisc,(k,0,1))\n",
    "p3 = plot(nsav,(k,0,1))"
   ]
  },
  {
   "cell_type": "code",
   "execution_count": null,
   "id": "b9ebd85e-f677-4ad8-8f82-ec273fcd1154",
   "metadata": {},
   "outputs": [],
   "source": []
  }
 ],
 "metadata": {
  "kernelspec": {
   "display_name": "SageMath 9.0",
   "language": "sage",
   "name": "sagemath"
  },
  "language_info": {
   "codemirror_mode": {
    "name": "ipython",
    "version": 3
   },
   "file_extension": ".py",
   "mimetype": "text/x-python",
   "name": "python",
   "nbconvert_exporter": "python",
   "pygments_lexer": "ipython3",
   "version": "3.8.10"
  }
 },
 "nbformat": 4,
 "nbformat_minor": 5
}
